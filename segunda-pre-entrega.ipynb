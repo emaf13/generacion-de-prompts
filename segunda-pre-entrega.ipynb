{
 "cells": [
  {
   "cell_type": "markdown",
   "id": "83a758ef-0ab4-4302-98ab-a8acca5b8eef",
   "metadata": {},
   "source": [
    "# Pre-Entrega2: \n",
    "# Generación automatizada de reportes con IA"
   ]
  },
  {
   "cell_type": "markdown",
   "id": "28b00bfe-52bd-4f6d-999d-43ecf549c495",
   "metadata": {},
   "source": [
    "## Introducción"
   ]
  },
  {
   "cell_type": "markdown",
   "id": "5f33380d-6c61-467a-b280-5007df7147c7",
   "metadata": {},
   "source": [
    "### Nombre del proyecto:\n",
    "#### Generación automatizada de reportes con IA"
   ]
  },
  {
   "cell_type": "markdown",
   "id": "ee7d30da-c3e9-4c0a-ad7b-005ce91727f5",
   "metadata": {},
   "source": [
    "### Presentación del problema a abordar:\n",
    "En el ámbito de la administración de sistemas y monitoreo IT, herramientas como **Zabbix** generan una gran cantidad de datos sobre disponibilidad, rendimiento y alertas. Aunque estos datos son esenciales, el proceso de convertirlos en reportes significativos para gerentes y stakeholders suele ser tedioso y consume tiempo, ya que requiere:\n",
    "\n",
    " - Extraer métricas relevantes de los sistemas.\n",
    "\n",
    " - Analizar tendencias y comportamientos en los datos.\n",
    "\n",
    " - Presentar resultados de manera clara y profesional.\n",
    "\n",
    "Este problema es particularmente relevante porque los reportes son fundamentales para tomar decisiones estratégicas, medir acuerdos de nivel de servicio (SLAs) y comunicar resultados de manera efectiva. Sin embargo, los equipos técnicos pueden perder un tiempo valioso en tareas repetitivas en lugar de enfocarse en actividades críticas.\n"
   ]
  },
  {
   "cell_type": "markdown",
   "id": "05e7a696-7c2a-4824-abc1-b0bfcfccae78",
   "metadata": {},
   "source": [
    "### Desarrollo de la propuesta de solución:\n",
    "La solución propuesta consiste en desarrollar un sistema automatizado que utilice **modelos de IA** para generar reportes narrativos y también gráficos basados en datos extraídos de Zabbix. Este sistema tendrá dos componentes principales:\n",
    "\n",
    "**Texto a texto**:\n",
    "\n",
    "1. Usar prompts que transformen métricas y datos de Zabbix en un análisis narrativo.\n",
    "\n",
    "2. Por ejemplo, convertir una tabla con tiempos de disponibilidad e indisponibilidad de un cierto servicio en un resumen como:\n",
    "   - \"El servicio X tuvo una disponibilidad del 99.87% esta semana, cumpliendo con el SLA acordado. Hubo una interrupción de 15 minutos el día miércoles, causada por XY razón.\"\n",
    "\n",
    "\n",
    "**Texto a imagen**:\n",
    "\n",
    "1. Generar gráficos y diagramas (disponibilidad semanal, tiempos de indisponibilidad, etc.) basados en las métricas, que complementen el análisis narrativo.\n",
    "\n",
    "2. Por ejemplo: gráficos de barras para comparar la disponibilidad entre servicios o líneas de tiempo para visualizar tendencias. En caso de no quedar satisfecho con las generaciones de imágenes sobre estos puntos, nuestra contingencia será generar imágenes indicadoras a modo de resumen o pantallazo general de como fue el comportamiento de disponibilidad de los servicios monitoreados.\n",
    "\n"
   ]
  },
  {
   "cell_type": "markdown",
   "id": "fce47eea-e8b2-4af9-b022-f795d3c29b3f",
   "metadata": {},
   "source": [
    "### Justificación de la viabilidad del proyecto:\n",
    "Este proyecto es técnicamente viable debido a:\n",
    "\n",
    "1. Acceso a herramientas: Se utilizará la API de OpenAI para implementar los modelos de IA necesarios.\n",
    "\n",
    "2. Procesamiento eficiente: Los datos provenientes de Zabbix ya están procesados en un formato amigable para la IA, además, al menos para esta segunda pre-entrega, partimos de una entrada de datos estática en el código.\n",
    "\n",
    "3. Control de costos: Los prompts se diseñaron para ser breves y optimizados, minimizando por ese lado el gasto de tokens al generar resúmenes y gráficos, no obstante, en algunos escenarios no se acudió al modelo de openai más barato, ya que se requiere de una inteligencia superior para lograr  análisis más complejos.  Así y todo, los costos siguen siendo minimos, ya que la ejecución del script es puntual, en principio es semanal. Además todas las respuestas cuentan con un limitador de tokens para evitar cualquier problema de desborde y topear los costos por respuesta como medida preventiva.\n"
   ]
  },
  {
   "cell_type": "markdown",
   "id": "9bf308a2-0e93-4063-82cc-836c7f8f7405",
   "metadata": {},
   "source": [
    "## Objetivos\n",
    "### Objetivo general:\n",
    " - Automatizar la creación de resúmenes narrativos y gráficos representativos a partir de datos de disponibilidad y SLA.\n",
    "\n",
    "### Objetivos específicos:\n",
    "\n",
    " - Generar resúmenes narrativos claros y útiles a partir de datos procesados de Zabbix.\n",
    " - Crear gráficos conceptuales que visualicen de forma intuitiva el desempeño semanal.\n",
    " - Demostrar la efectividad de los modelos de IA en la generación automatizada de reportes."
   ]
  },
  {
   "cell_type": "markdown",
   "id": "84a4c0ea-e611-40af-8079-3177f07c9f0b",
   "metadata": {},
   "source": [
    "## Metodología\n",
    "**Preparación de los datos:**\n",
    "\n",
    " - Extraer los datos de Zabbix usando su API.\n",
    " - Procesar y formatear los datos en JSON para su compatibilidad con los modelos de IA.\n",
    "\n",
    "\n",
    "**Generación del resumen narrativo:**\n",
    "\n",
    " - Crear prompts optimizados que alimenten el modelo de texto a texto (GPT).\n",
    " - Evaluar y ajustar los resultados generados para garantizar claridad y precisión.\n",
    "\n",
    "**Creación de gráficos visuales:**\n",
    "\n",
    " - Usar un modelo de texto a imagen para generar gráficos conceptuales basados en un score calculado por servicio.\n",
    "\n",
    "**Pruebas y ajustes:**\n",
    "\n",
    " - Validar los resultados con datos reales para garantizar que sean útiles y comprensibles.\n",
    " - Optimizar prompts para mejorar la relación costo-beneficio."
   ]
  },
  {
   "cell_type": "markdown",
   "id": "3ee7d6b5-c408-4306-bf10-05e80fbc9cd3",
   "metadata": {},
   "source": [
    "## Herramientas y tecnologías\n",
    "\n",
    "**Librerías:**\n",
    "\n",
    " - openai para interacción con modelos de IA.\n",
    "\n",
    "\n",
    "**Técnicas de prompting:**\n",
    "\n",
    " - **Zero-shot prompting:** es eficiente y directo, evitando ejemplos adicionales que podrían aumentar los costos y el procesamiento.\n",
    " - **One-shot prompting:** garantiza que el modelo produzca respuestas claras y específicas en situaciones donde el formato esperado es crítico (como el score).\n",
    "\n"
   ]
  },
  {
   "cell_type": "markdown",
   "id": "e71bb4d1-866c-47cf-88dd-1252139ebe21",
   "metadata": {},
   "source": [
    "## Implementación\n",
    "\n"
   ]
  },
  {
   "cell_type": "code",
   "execution_count": 78,
   "id": "9a869e5b-1543-4f89-b3dc-a74e7ae11f65",
   "metadata": {},
   "outputs": [],
   "source": [
    "import openai"
   ]
  },
  {
   "cell_type": "code",
   "execution_count": 79,
   "id": "402a23f3-ee1d-4ba4-b677-3af2314e5ae9",
   "metadata": {},
   "outputs": [],
   "source": [
    "openai.api_key = \"\" #Quitamos la key para la segunda pre-entrega"
   ]
  },
  {
   "cell_type": "code",
   "execution_count": 80,
   "id": "c0061f26-c8e1-4d36-8b01-a8be50c7d741",
   "metadata": {},
   "outputs": [],
   "source": [
    "context = \"\"\"Eres un analista de datos que se encarga de redactar resumenes narrativos detallados para cada servicio, indicando su nivel de disponibilidad, los tiempos de inactividad, las causas de interrupciones en caso\n",
    "de que las haya, y si cumplieron con el SLA objetivo. \n",
    "Además puedes agregar recomendaciones si fuera relevante. El resumen no debe superar en ningún caso los 500 tokens.\n",
    "\"\"\""
   ]
  },
  {
   "cell_type": "code",
   "execution_count": 81,
   "id": "b602a898-ab89-4aea-baac-acbc12f9f819",
   "metadata": {},
   "outputs": [],
   "source": [
    "data_in = \"\"\"\n",
    "{\n",
    "    \"report_week\": \"2024-11-25 to 2024-12-01\",\n",
    "    \"services\": [\n",
    "        {\n",
    "            \"service_name\": \"Web Server\",\n",
    "            \"availability\": 99.87,\n",
    "            \"downtime\": {\n",
    "                \"total_minutes\": 15,\n",
    "                \"events\": [\n",
    "                    {\n",
    "                        \"date\": \"2024-11-27\",\n",
    "                        \"duration_minutes\": 15,\n",
    "                        \"cause\": \"Network failure\"\n",
    "                    }\n",
    "                ]\n",
    "            },\n",
    "            \"sla_target\": 99.90,\n",
    "            \"alerts\": 3,\n",
    "            \"observations\": \"Met SLA despite minor downtime.\"\n",
    "        },\n",
    "        {\n",
    "            \"service_name\": \"BackendServer\",\n",
    "            \"availability\": 100,\n",
    "            \"downtime\": {\n",
    "                \"total_minutes\": 0,\n",
    "                \"events\": [\n",
    "                ]\n",
    "            },\n",
    "            \"sla_target\": 99.90,\n",
    "            \"alerts\": 0,\n",
    "            \"observations\": \"\"\n",
    "        },\n",
    "        {\n",
    "            \"service_name\": \"Database\",\n",
    "            \"availability\": 99.95,\n",
    "            \"downtime\": {\n",
    "                \"total_minutes\": 5,\n",
    "                \"events\": [\n",
    "                    {\n",
    "                        \"date\": \"2024-11-28\",\n",
    "                        \"duration_minutes\": 5,\n",
    "                        \"cause\": \"Maintenance\"\n",
    "                    }\n",
    "                ]\n",
    "            },\n",
    "            \"sla_target\": 99.95,\n",
    "            \"alerts\": 1,\n",
    "            \"observations\": \"Achieved SLA with minimal interruptions.\"\n",
    "        }\n",
    "    ]\n",
    "}\n",
    "\"\"\""
   ]
  },
  {
   "cell_type": "code",
   "execution_count": 82,
   "id": "0496f513-6d79-4107-9ab5-a33952a81fba",
   "metadata": {},
   "outputs": [],
   "source": [
    "prompt = f\"Estos son los datos a analizar {data_in}\""
   ]
  },
  {
   "cell_type": "code",
   "execution_count": 83,
   "id": "e54a1c1d-3b9a-4b76-8a98-e564b5254658",
   "metadata": {},
   "outputs": [],
   "source": [
    "conversation = [\n",
    "    {\"role\": \"system\", \"content\": context},\n",
    "    {\"role\": \"user\", \"content\": prompt}\n",
    "]"
   ]
  },
  {
   "cell_type": "code",
   "execution_count": 84,
   "id": "cc2b0436-c853-4bc5-88be-f0d04565cefd",
   "metadata": {},
   "outputs": [],
   "source": [
    "response = openai.ChatCompletion.create(\n",
    "    model = 'gpt-4',\n",
    "    messages = conversation,\n",
    "    max_tokens = 500\n",
    ")"
   ]
  },
  {
   "cell_type": "code",
   "execution_count": 85,
   "id": "e4a8c91d-5549-4716-889a-4496817a0bcd",
   "metadata": {},
   "outputs": [],
   "source": [
    "narrated_summary = response[\"choices\"][0][\"message\"][\"content\"].strip()"
   ]
  },
  {
   "cell_type": "code",
   "execution_count": 70,
   "id": "21da32cf-66c7-43ca-8085-78637ac6dc17",
   "metadata": {},
   "outputs": [
    {
     "name": "stdout",
     "output_type": "stream",
     "text": [
      "Informe Semanal del Servicio: del 25 de noviembre al 1 de diciembre del 2024\n",
      "\n",
      "1) **Servidor Web**: Con una disponibilidad del 99.87%, este servicio tuvo un tiempo de inactividad de 15 minutos debido a una falla de red registrada el 27 de noviembre del 2024. Aunque estuvo cerca del objetivo del SLA del 99.90%, un ligero desfase existió, desencadenando 3 alertas durante el período. A pesar del tiempo de inactividad menor, logró cumplir con el SLA. \n",
      "\n",
      "   Recomendación: Mejorar las infraestructuras de red y establecer protocolos de redundancia para evitar que futuras fallas de red afecten el tiempo de actividad.\n",
      "\n",
      "2) **BackendServer**: Este servicio mantuvo una disponibilidad perfecta del 100% sin tiempo de inactividad, logrando así superar el objetivo del SLA del 99.90%. No se registraron alertas durante este período.\n",
      "\n",
      "   Recomendación: Continuar con las prácticas actuales para mantenimiento y monitoreo para asegurar la continuidad del servicio sin interrupciones.\n",
      "\n",
      "3) **Base de Datos**: Con una interrupción mínima de 5 minutos para mantenimiento el 28 de noviembre del 2024, este servicio logró una disponibilidad del 99.95%, igual al objetivo del SLA. Se disparó una única alerta durante este período.\n",
      "\n",
      "   Recomendación: Si es posible, programar tareas de mantenimiento durante periodos de menor demanda para minimizar el impacto en la disponibilidad del servicio.\n",
      "\n",
      "En general, los servicios gestionados mantuvieron una alta disponibilidad a lo largo de la semana, cumpliendo o superando sus objetivos de SLA respectivos. Las interrupciones fueron breves y manejables, con causas claras y soluciones rápidas. Sin embargo, se pueden realizar mejoras en las áreas de infraestructura de red y programación de mantenimiento para evitar futuras interrupciones.\n"
     ]
    }
   ],
   "source": [
    "print(narrated_summary)"
   ]
  },
  {
   "cell_type": "code",
   "execution_count": 86,
   "id": "da8326f9-d127-4a40-bcd5-31d79a3d98e7",
   "metadata": {},
   "outputs": [],
   "source": [
    "score_summary_request = \"En base al resumen narrado construído, se requiere calificar el desempeño de los servicios en general en relación al SLA objetivo, y se pide elegir una clasificación de entre 0 y 10, donde 0 es desastroso y 10 es la excelencia. Que número elegirías? Por favor, respondeme solo el número indicador, ni más ni menos.\"\n",
    "\n",
    "conversation.append({\"role\": \"user\", \"content\": score_summary_request})\n",
    "\n",
    "response_2 = openai.ChatCompletion.create(\n",
    "    model='gpt-3.5-turbo',\n",
    "    messages=conversation,\n",
    "    max_tokens=10\n",
    ")\n",
    "\n",
    "score_summary = response_2['choices'][0]['message']['content'].strip()\n"
   ]
  },
  {
   "cell_type": "code",
   "execution_count": 87,
   "id": "4dbbc329-9972-45f1-957b-1459f1e0db5c",
   "metadata": {},
   "outputs": [
    {
     "name": "stdout",
     "output_type": "stream",
     "text": [
      "Score: 8\n"
     ]
    }
   ],
   "source": [
    "print(\"Score:\", score_summary)"
   ]
  },
  {
   "cell_type": "code",
   "execution_count": 88,
   "id": "4b9995ca-f066-44d5-9bfa-b0bdd255f1ee",
   "metadata": {},
   "outputs": [
    {
     "name": "stdout",
     "output_type": "stream",
     "text": [
      "https://oaidalleapiprodscus.blob.core.windows.net/private/org-zxk0LPtO3ZaaLczq31fRsE41/user-bLzPwqfphC1UZxdNXxq563OB/img-dCwzL6seqJP5cZelRcRs4K0u.png?st=2024-12-04T01%3A30%3A59Z&se=2024-12-04T03%3A30%3A59Z&sp=r&sv=2024-08-04&sr=b&rscd=inline&rsct=image/png&skoid=d505667d-d6c1-4a0a-bac7-5c84a87759f8&sktid=a48cca56-e6da-484e-a814-9c849652bcb3&skt=2024-12-04T01%3A06%3A49Z&ske=2024-12-05T01%3A06%3A49Z&sks=b&skv=2024-08-04&sig=KKdAj0wEmga70AeiNyhfYxIx/pG33EgtALAMPXrNnj0%3D\n"
     ]
    }
   ],
   "source": [
    "score_image = f\"Crear un diseño minimalista estilo gauge que refleje un desempeño basado en un score. El diseño es de un color entre rojo (score 0) y verde (score 10), con tonos intermedios según el score. Fondo blanco, diseño limpio y profesional. La imagén resultante no debe de tener números ni letras. El score es {score_summary}\"\n",
    "\n",
    "conversation.append({\"role\": \"user\", \"content\": score_image})\n",
    "\n",
    "image_response = openai.Image.create(\n",
    "    prompt=score_image,\n",
    "    n=1,\n",
    "    size=\"256x256\"\n",
    ")\n",
    "\n",
    "print(image_response['data'][0]['url'])"
   ]
  },
  {
   "cell_type": "code",
   "execution_count": null,
   "id": "0be9f28d-ef0c-47c2-949f-909f77633f66",
   "metadata": {},
   "outputs": [],
   "source": []
  }
 ],
 "metadata": {
  "kernelspec": {
   "display_name": "Python 3 (ipykernel)",
   "language": "python",
   "name": "python3"
  },
  "language_info": {
   "codemirror_mode": {
    "name": "ipython",
    "version": 3
   },
   "file_extension": ".py",
   "mimetype": "text/x-python",
   "name": "python",
   "nbconvert_exporter": "python",
   "pygments_lexer": "ipython3",
   "version": "3.10.15"
  }
 },
 "nbformat": 4,
 "nbformat_minor": 5
}
